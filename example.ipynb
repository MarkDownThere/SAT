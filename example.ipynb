{
 "cells": [
  {
   "cell_type": "markdown",
   "id": "improving-timothy",
   "metadata": {},
   "source": [
    "# trial notebook"
   ]
  },
  {
   "cell_type": "code",
   "execution_count": 2,
   "id": "suited-turner",
   "metadata": {},
   "outputs": [
    {
     "name": "stdout",
     "output_type": "stream",
     "text": [
      "mdanalysis version =  1.0.1  should be 1.0.1\n"
     ]
    }
   ],
   "source": [
    "import MDAnalysis as mda\n",
    "print(\"mdanalysis version = \", mda.__version__, \" should be 1.0.1\")\n",
    "from pathlib import Path\n",
    "from os import fspath\n",
    "import nglview\n",
    "import numpy as np\n",
    "import matplotlib.pyplot as plt\n",
    "%matplotlib inline\n",
    "import seaborn as sns\n",
    "import pandas as pd\n",
    "from mpl_toolkits.mplot3d import Axes3D\n",
    "from matplotlib.colors import ListedColormap"
   ]
  }
 ],
 "metadata": {
  "kernelspec": {
   "display_name": "Python 3",
   "language": "python",
   "name": "python3"
  },
  "language_info": {
   "codemirror_mode": {
    "name": "ipython",
    "version": 3
   },
   "file_extension": ".py",
   "mimetype": "text/x-python",
   "name": "python",
   "nbconvert_exporter": "python",
   "pygments_lexer": "ipython3",
   "version": "3.8.1"
  }
 },
 "nbformat": 4,
 "nbformat_minor": 5
}
